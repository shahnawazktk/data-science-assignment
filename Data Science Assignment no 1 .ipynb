{
 "cells": [
  {
   "cell_type": "markdown",
   "id": "56a142e2",
   "metadata": {},
   "source": [
    "# write a python program to print the following string in a spacific formate"
   ]
  },
  {
   "cell_type": "code",
   "execution_count": 7,
   "id": "9d1f3c45",
   "metadata": {},
   "outputs": [
    {
     "name": "stdout",
     "output_type": "stream",
     "text": [
      "twinkle ,twinkle,little star,\n",
      "         How I wonder what you are!\n",
      "                up above the world so high,\n",
      "                   Like a diamond in the sky.\n",
      " twinkle,twinkle,Little star,\n",
      "        How I wonder what you are \n"
     ]
    }
   ],
   "source": [
    "print(\"twinkle ,twinkle,little star,\\n         How I wonder what you are!\\n                up above the world so high,\\n                   Like a diamond in the sky.\\n twinkle,twinkle,Little star,\\n        How I wonder what you are \")"
   ]
  },
  {
   "cell_type": "markdown",
   "id": "d6270a6d",
   "metadata": {},
   "source": [
    "# write a python program  to get the python version you are using.\n"
   ]
  },
  {
   "cell_type": "code",
   "execution_count": 9,
   "id": "f0092fa1",
   "metadata": {},
   "outputs": [
    {
     "name": "stdout",
     "output_type": "stream",
     "text": [
      " python version\n",
      "3.8.8 (default, Apr 13 2021, 15:08:03) [MSC v.1916 64 bit (AMD64)]\n",
      "version info.\n",
      "sys.version_info(major=3, minor=8, micro=8, releaselevel='final', serial=0)\n"
     ]
    }
   ],
   "source": [
    "import sys\n",
    "print(\" python version\")\n",
    "print(sys.version)\n",
    "print(\"version info.\")\n",
    "print(sys.version_info)"
   ]
  },
  {
   "cell_type": "markdown",
   "id": "a91d70e7",
   "metadata": {},
   "source": [
    "# write a python program to display the current date and time."
   ]
  },
  {
   "cell_type": "code",
   "execution_count": 10,
   "id": "3dddfb26",
   "metadata": {},
   "outputs": [
    {
     "name": "stdout",
     "output_type": "stream",
     "text": [
      "current date and time\n",
      "2021-12-30  02:18:02\n"
     ]
    }
   ],
   "source": [
    "import datetime\n",
    "now=datetime.datetime.now()\n",
    "print(\"current date and time\")\n",
    "print(now.strftime(\"%Y-%m-%d  %H:%M:%S\"))"
   ]
  },
  {
   "cell_type": "markdown",
   "id": "3ccff7a6",
   "metadata": {},
   "source": [
    "# write a python program which accept the radius of a circle  from the users and compute the area."
   ]
  },
  {
   "cell_type": "code",
   "execution_count": 14,
   "id": "eb3a9607",
   "metadata": {},
   "outputs": [
    {
     "name": "stdout",
     "output_type": "stream",
     "text": [
      "Input the radius of the circle : 3\n",
      "The area of the circle with radius 3.0 is: 28.274333882308138\n"
     ]
    }
   ],
   "source": [
    "from math import pi\n",
    "r = float(input (\"Input the radius of the circle : \"))\n",
    "print (\"The area of the circle with radius \" + str(r) + \" is: \" + str(pi * r**2))"
   ]
  },
  {
   "cell_type": "markdown",
   "id": "689bac3a",
   "metadata": {},
   "source": [
    "# write a python program  which accept the user's first and last name and print them in reverse oder with spaces between them."
   ]
  },
  {
   "cell_type": "code",
   "execution_count": 12,
   "id": "d367d0ee",
   "metadata": {},
   "outputs": [
    {
     "name": "stdout",
     "output_type": "stream",
     "text": [
      "input your First Name shah\n",
      "input your Last Name nawaz\n",
      "Hello nawaz shah\n"
     ]
    }
   ],
   "source": [
    "fname=input(\"input your First Name \")\n",
    "lname=input(\"input your Last Name \")\n",
    "print(\"Hello \" +lname +\" \" + fname)"
   ]
  },
  {
   "cell_type": "markdown",
   "id": "26c42013",
   "metadata": {},
   "source": [
    "# write a python program which takes two input from user and print them addition ."
   ]
  },
  {
   "cell_type": "code",
   "execution_count": 15,
   "id": "4fc2fdea",
   "metadata": {},
   "outputs": [
    {
     "name": "stdout",
     "output_type": "stream",
     "text": [
      "enter first number :3\n",
      "enter second number :4\n",
      "sum : 7\n"
     ]
    }
   ],
   "source": [
    "a =int(input(\"enter first number :\"))\n",
    "b =int(input(\"enter second number :\"))\n",
    "sum = a+b\n",
    "print(\"sum :\", sum)"
   ]
  },
  {
   "cell_type": "code",
   "execution_count": null,
   "id": "6faf18f1",
   "metadata": {},
   "outputs": [],
   "source": []
  }
 ],
 "metadata": {
  "kernelspec": {
   "display_name": "Python 3",
   "language": "python",
   "name": "python3"
  },
  "language_info": {
   "codemirror_mode": {
    "name": "ipython",
    "version": 3
   },
   "file_extension": ".py",
   "mimetype": "text/x-python",
   "name": "python",
   "nbconvert_exporter": "python",
   "pygments_lexer": "ipython3",
   "version": "3.8.8"
  }
 },
 "nbformat": 4,
 "nbformat_minor": 5
}
